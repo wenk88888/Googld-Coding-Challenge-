{
 "cells": [
  {
   "cell_type": "code",
   "execution_count": 0,
   "metadata": {
    "collapsed": false,
    "scrolled": true
   },
   "outputs": [
   ],
   "source": [
    "pip install GitPython"
   ]
  },
  {
   "cell_type": "code",
   "execution_count": 0,
   "metadata": {
    "collapsed": false
   },
   "outputs": [
   ],
   "source": [
    "pip install pytest"
   ]
  },
  {
   "cell_type": "code",
   "execution_count": 0,
   "metadata": {
    "collapsed": false,
    "scrolled": true
   },
   "outputs": [
   ],
   "source": [
    "pip install clone"
   ]
  },
  {
   "cell_type": "code",
   "execution_count": 0,
   "metadata": {
    "collapsed": false
   },
   "outputs": [
   ],
   "source": [
    "pip install git"
   ]
  },
  {
   "cell_type": "code",
   "execution_count": 4,
   "metadata": {
    "collapsed": false,
    "scrolled": true
   },
   "outputs": [
    {
     "name": "stdout",
     "output_type": "stream",
     "text": [
      "fatal: destination path 'google-code-sample' already exists and is not an empty directory.\r\n"
     ]
    }
   ],
   "source": [
    "!git clone https://github.com/internship-experience-uk/google-code-sample.git"
   ]
  },
  {
   "cell_type": "code",
   "execution_count": 5,
   "metadata": {
    "collapsed": false
   },
   "outputs": [
    {
     "name": "stdout",
     "output_type": "stream",
     "text": [
      "/home/user/google-code-sample/python/google-code-sample/python\n"
     ]
    }
   ],
   "source": [
    "cd google-code-sample/python"
   ]
  },
  {
   "cell_type": "code",
   "execution_count": 3,
   "metadata": {
    "collapsed": false
   },
   "outputs": [
    {
     "name": "stdout",
     "output_type": "stream",
     "text": [
      "Hello and welcome to YouTube, what would you like to do?\r\n",
      "    Enter HELP for list of available commands or EXIT to terminate.\r\n",
      "YT> "
     ]
    },
    {
     "name": "stdout",
     "output_type": "stream",
     "text": [
      "^C\r\n",
      "Traceback (most recent call last):\r\n",
      "  File \"/usr/lib/python3.8/runpy.py\", line 194, in _run_module_as_main\r\n",
      "    return _run_code(code, main_globals, None,\r\n",
      "  File \"/usr/lib/python3.8/runpy.py\", line 87, in _run_code\r\n",
      "    exec(code, run_globals)\r\n",
      "  File \"/home/user/google-code-sample/python/src/run.py\", line 13, in <module>\r\n",
      "    command = input(\"YT> \")\r\n",
      "KeyboardInterrupt\r\n"
     ]
    }
   ],
   "source": [
    "!python3 -m src.run"
   ]
  },
  {
   "cell_type": "code",
   "execution_count": 0,
   "metadata": {
    "collapsed": false
   },
   "outputs": [
   ],
   "source": [
    "!/youtube"
   ]
  },
  {
   "cell_type": "code",
   "execution_count": 0,
   "metadata": {
    "collapsed": false
   },
   "outputs": [
   ],
   "source": [
    "!python3 -m pytest\n"
   ]
  },
  {
   "cell_type": "code",
   "execution_count": 0,
   "metadata": {
    "collapsed": false
   },
   "outputs": [
   ],
   "source": [
    "YT > HELP"
   ]
  },
  {
   "cell_type": "code",
   "execution_count": 0,
   "metadata": {
    "collapsed": false
   },
   "outputs": [
   ],
   "source": [
    "pip install pytest"
   ]
  },
  {
   "cell_type": "code",
   "execution_count": 0,
   "metadata": {
    "collapsed": false
   },
   "outputs": [
   ],
   "source": [
   ]
  },
  {
   "cell_type": "code",
   "execution_count": 0,
   "metadata": {
    "collapsed": false
   },
   "outputs": [
   ],
   "source": [
   ]
  },
  {
   "cell_type": "code",
   "execution_count": 0,
   "metadata": {
    "collapsed": false
   },
   "outputs": [
   ],
   "source": [
   ]
  },
  {
   "cell_type": "code",
   "execution_count": 0,
   "metadata": {
    "collapsed": false
   },
   "outputs": [
   ],
   "source": [
    "!YT>HELP"
   ]
  },
  {
   "cell_type": "code",
   "execution_count": 0,
   "metadata": {
    "collapsed": false
   },
   "outputs": [
   ],
   "source": [
    "import re\n",
    "from src.video_player import VideoPlayer\n",
    "\n",
    "\n",
    "def test_number_of_videos(capfd):\n",
    "    player = VideoPlayer()\n",
    "    player.number_of_videos()\n",
    "    out, err = capfd.readouterr()\n",
    "    assert \"5 videos in the library\" in out\n",
    "\n",
    "\n",
    "def test_show_all_videos(capfd):\n",
    "    player = VideoPlayer()\n",
    "    player.show_all_videos()\n",
    "    out, err = capfd.readouterr()\n",
    "    lines = out.splitlines()\n",
    "    assert len(lines) == 6\n",
    "    assert \"Here's a list of all available videos:\" in lines[0]\n",
    "    assert \"Amazing Cats (amazing_cats_video_id) [#cat #animal]\" in lines[1]\n",
    "    assert \"Another Cat Video (another_cat_video_id) [#cat #animal]\" in lines[2]\n",
    "    assert \"Funny Dogs (funny_dogs_video_id) [#dog #animal]\" in lines[3]\n",
    "    assert \"Life at Google (life_at_google_video_id) [#google #career]\" in lines[4]\n",
    "    assert \"Video about nothing (nothing_video_id) []\" in lines[5]\n",
    "\n",
    "\n",
    "def test_play_video(capfd):\n",
    "    player = VideoPlayer()\n",
    "    player.play_video(\"amazing_cats_video_id\")\n",
    "    out, err = capfd.readouterr()\n",
    "    lines = out.splitlines()\n",
    "    assert len(lines) == 1\n",
    "    assert \"Playing video: Amazing Cats\" in out\n",
    "\n",
    "\n",
    "def test_play_video_nonexistent(capfd):\n",
    "    player = VideoPlayer()\n",
    "    player.play_video(\"does_not_exist\")\n",
    "    out, err = capfd.readouterr()\n",
    "    lines = out.splitlines()\n",
    "    assert len(lines) == 1\n",
    "    assert \"Cannot play video: Video does not exist\" in out\n",
    "\n",
    "\n",
    "def test_play_video_stop_previous(capfd):\n",
    "    player = VideoPlayer()\n",
    "    player.play_video(\"amazing_cats_video_id\")\n",
    "    player.play_video(\"funny_dogs_video_id\")\n",
    "    out, err = capfd.readouterr()\n",
    "    lines = out.splitlines()\n",
    "    assert len(lines) == 3\n",
    "    assert \"Playing video: Amazing Cats\" in lines[0]\n",
    "    assert \"Stopping video: Amazing Cats\" in lines[1]\n",
    "    assert \"Playing video: Funny Dogs\" in lines[2]\n",
    "\n",
    "\n",
    "def test_play_video_dont_stop_previous_if_nonexistent(capfd):\n",
    "    player = VideoPlayer()\n",
    "    player.play_video(\"amazing_cats_video_id\")\n",
    "    player.play_video(\"some_other_video\")\n",
    "    out, err = capfd.readouterr()\n",
    "    lines = out.splitlines()\n",
    "    assert len(lines) == 2\n",
    "    assert \"Playing video: Amazing Cats\" in lines[0]\n",
    "    assert \"Stopping video: Amazing Cats\" not in out\n",
    "    assert \"Cannot play video: Video does not exist\" in lines[1]\n",
    "\n",
    "\n",
    "def test_stop_video(capfd):\n",
    "    player = VideoPlayer()\n",
    "    player.play_video(\"amazing_cats_video_id\")\n",
    "    player.stop_video()\n",
    "    out, err = capfd.readouterr()\n",
    "    lines = out.splitlines()\n",
    "    assert len(lines) == 2\n",
    "    assert \"Playing video: Amazing Cats\" in lines[0]\n",
    "    assert \"Stopping video: Amazing Cats\" in lines[1]\n",
    "\n",
    "\n",
    "def test_stop_video_twice(capfd):\n",
    "    player = VideoPlayer()\n",
    "    player.play_video(\"amazing_cats_video_id\")\n",
    "    player.stop_video()\n",
    "    player.stop_video()\n",
    "    out, err = capfd.readouterr()\n",
    "    lines = out.splitlines()\n",
    "    assert len(lines) == 3\n",
    "    assert \"Playing video: Amazing Cats\" in lines[0]\n",
    "    assert \"Stopping video: Amazing Cats\" in lines[1]\n",
    "    assert \"Cannot stop video: No video is currently playing\" in lines[2]\n",
    "\n",
    "\n",
    "def test_stop_video_none_playing(capfd):\n",
    "    player = VideoPlayer()\n",
    "    player.stop_video()\n",
    "    out, err = capfd.readouterr()\n",
    "    lines = out.splitlines()\n",
    "    assert len(lines) == 1\n",
    "    assert \"Cannot stop video: No video is currently playing\" in out\n",
    "\n",
    "\n",
    "def test_play_random_video(capfd):\n",
    "    player = VideoPlayer()\n",
    "    player.play_random_video()\n",
    "    out, err = capfd.readouterr()\n",
    "    lines = out.splitlines()\n",
    "    assert len(lines) == 1\n",
    "    assert re.match(\n",
    "        \"Playing video: (Amazing Cats|Another Cat Video|Funny Dogs|Life at Google|Video about nothing)\",\n",
    "        out)\n",
    "\n",
    "\n",
    "def test_play_random_stops_previous_video(capfd):\n",
    "    player = VideoPlayer()\n",
    "    player.play_video(\"amazing_cats_video_id\")\n",
    "    player.play_random_video()\n",
    "    out, err = capfd.readouterr()\n",
    "    lines = out.splitlines()\n",
    "    assert len(lines) == 3\n",
    "    assert \"Playing video: Amazing Cats\" in lines[0]\n",
    "    assert \"Stopping video: Amazing Cats\" in lines[1]\n",
    "    assert re.match(\n",
    "        \"Playing video: (Amazing Cats|Another Cat Video|Funny Dogs|Life at Google|Video about nothing)\",\n",
    "        lines[2])\n",
    "\n",
    "\n",
    "def test_show_playing(capfd):\n",
    "    player = VideoPlayer()\n",
    "    player.play_video(\"amazing_cats_video_id\")\n",
    "    player.show_playing()\n",
    "    out, err = capfd.readouterr()\n",
    "    lines = out.splitlines()\n",
    "    assert len(lines) == 2\n",
    "    assert \"Playing video: Amazing Cats\" in lines[0]\n",
    "    assert \"Currently playing: Amazing Cats (amazing_cats_video_id) [#cat #animal]\" in lines[1]\n",
    "\n",
    "\n",
    "def test_show_nothing_playing(capfd):\n",
    "    player = VideoPlayer()\n",
    "    player.show_playing()\n",
    "    out, err = capfd.readouterr()\n",
    "    lines = out.splitlines()\n",
    "    assert len(lines) == 1\n",
    "    assert \"No video is currently playing\" in lines[0]\n",
    "\n",
    "\n",
    "def test_pause_video(capfd):\n",
    "    player = VideoPlayer()\n",
    "    player.play_video(\"amazing_cats_video_id\")\n",
    "    player.pause_video()\n",
    "    out, err = capfd.readouterr()\n",
    "    lines = out.splitlines()\n",
    "    assert len(lines) == 2\n",
    "    assert \"Playing video: Amazing Cats\" in lines[0]\n",
    "    assert \"Pausing video: Amazing Cats\" in lines[1]\n",
    "\n",
    "\n",
    "def test_pause_video_show_playing(capfd):\n",
    "    player = VideoPlayer()\n",
    "    player.play_video(\"amazing_cats_video_id\")\n",
    "    player.pause_video()\n",
    "    player.show_playing()\n",
    "    out, err = capfd.readouterr()\n",
    "    lines = out.splitlines()\n",
    "    assert len(lines) == 3\n",
    "    assert \"Currently playing: Amazing Cats (amazing_cats_video_id) \" \\\n",
    "           \"[#cat #animal] - PAUSED\" in lines[2]\n",
    "\n",
    "\n",
    "def test_pause_video_play_video(capfd):\n",
    "    player = VideoPlayer()\n",
    "    player.play_video(\"amazing_cats_video_id\")\n",
    "    player.pause_video()\n",
    "    player.play_video(\"amazing_cats_video_id\")\n",
    "    player.show_playing()\n",
    "    out, err = capfd.readouterr()\n",
    "    lines = out.splitlines()\n",
    "    assert len(lines) == 5\n",
    "    assert \"Playing video: Amazing Cats\" in lines[0]\n",
    "    assert \"Pausing video: Amazing Cats\" in lines[1]\n",
    "    assert \"Stopping video: Amazing Cats\" in lines[2]\n",
    "    assert \"Playing video: Amazing Cats\" in lines[3]\n",
    "    assert \"Currently playing: Amazing Cats (amazing_cats_video_id) \" \\\n",
    "           \"[#cat #animal]\" in lines[4]\n",
    "    assert \"PAUSED\" not in lines[4]\n",
    "\n",
    "\n",
    "def test_pause_already_paused_video(capfd):\n",
    "    player = VideoPlayer()\n",
    "    player.play_video(\"amazing_cats_video_id\")\n",
    "    player.pause_video()\n",
    "    player.pause_video()\n",
    "    out, err = capfd.readouterr()\n",
    "    lines = out.splitlines()\n",
    "    assert len(lines) == 3\n",
    "    assert \"Playing video: Amazing Cats\" in lines[0]\n",
    "    assert \"Pausing video: Amazing Cats\" in lines[1]\n",
    "    assert \"Video already paused: Amazing Cats\" in lines[2]\n",
    "\n",
    "\n",
    "def test_pause_video_none_playing(capfd):\n",
    "    player = VideoPlayer()\n",
    "    player.pause_video()\n",
    "    out, err = capfd.readouterr()\n",
    "    lines = out.splitlines()\n",
    "    assert len(lines) == 1\n",
    "    assert \"Cannot pause video: No video is currently playing\" in lines[0]\n",
    "\n",
    "\n",
    "def test_continue_video(capfd):\n",
    "    player = VideoPlayer()\n",
    "    player.play_video(\"amazing_cats_video_id\")\n",
    "    player.pause_video()\n",
    "    player.continue_video()\n",
    "    out, err = capfd.readouterr()\n",
    "    lines = out.splitlines()\n",
    "    assert len(lines) == 3\n",
    "    assert \"Playing video: Amazing Cats\" in lines[0]\n",
    "    assert \"Pausing video: Amazing Cats\" in lines[1]\n",
    "    assert \"Continuing video: Amazing Cats\" in lines[2]\n",
    "\n",
    "\n",
    "def test_continue_video_not_paused(capfd):\n",
    "    player = VideoPlayer()\n",
    "    player.play_video(\"amazing_cats_video_id\")\n",
    "    player.continue_video()\n",
    "    out, err = capfd.readouterr()\n",
    "    lines = out.splitlines()\n",
    "    assert len(lines) == 2\n",
    "    assert \"Cannot continue video: Video is not paused\" in lines[1]\n",
    "\n",
    "\n",
    "def test_continue_none_playing(capfd):\n",
    "    player = VideoPlayer()\n",
    "    player.continue_video()\n",
    "    out, err = capfd.readouterr()\n",
    "    lines = out.splitlines()\n",
    "    assert len(lines) == 1\n",
    "    assert \"Cannot continue video: No video is currently playing\" in lines[0]"
   ]
  },
  {
   "cell_type": "code",
   "execution_count": 0,
   "metadata": {
    "collapsed": false
   },
   "outputs": [
   ],
   "source": [
    "import src"
   ]
  },
  {
   "cell_type": "code",
   "execution_count": 0,
   "metadata": {
    "collapsed": false
   },
   "outputs": [
   ],
   "source": [
    "HELP"
   ]
  },
  {
   "cell_type": "code",
   "execution_count": 0,
   "metadata": {
    "collapsed": false
   },
   "outputs": [
   ],
   "source": [
    "YT > HELP"
   ]
  },
  {
   "cell_type": "code",
   "execution_count": 0,
   "metadata": {
    "collapsed": false
   },
   "outputs": [
   ],
   "source": [
    "pip install src"
   ]
  },
  {
   "cell_type": "code",
   "execution_count": 0,
   "metadata": {
    "collapsed": false
   },
   "outputs": [
   ],
   "source": [
    "from src.video_player import VideoPlayer\n",
    "\n",
    "\n",
    "def test_create_playlist(capfd):\n",
    "    player = VideoPlayer()\n",
    "    player.create_playlist(\"my_PLAYlist\")\n",
    "    out, err = capfd.readouterr()\n",
    "    lines = out.splitlines()\n",
    "    assert len(lines) == 1\n",
    "    assert \"Successfully created new playlist: my_PLAYlist\" in lines[0]\n",
    "\n",
    "\n",
    "def test_create_existing_playlist(capfd):\n",
    "    player = VideoPlayer()\n",
    "    player.create_playlist(\"my_cool_playlist\")\n",
    "    player.create_playlist(\"my_COOL_PLAYLIST\")\n",
    "    out, err = capfd.readouterr()\n",
    "    lines = out.splitlines()\n",
    "    assert len(lines) == 2\n",
    "    assert \"Successfully created new playlist: my_cool_playlist\" in lines[0]\n",
    "    assert (\"Cannot create playlist: A playlist with the same name already \"\n",
    "            \"exists\") in lines[1]\n",
    "\n",
    "\n",
    "def test_add_to_playlist(capfd):\n",
    "    player = VideoPlayer()\n",
    "    player.create_playlist(\"my_COOL_playlist\")\n",
    "    player.add_to_playlist(\"my_cool_PLAYLIST\", \"amazing_cats_video_id\")\n",
    "    out, err = capfd.readouterr()\n",
    "    lines = out.splitlines()\n",
    "    assert len(lines) == 2\n",
    "    assert \"Successfully created new playlist: my_COOL_playlist\" in lines[0]\n",
    "    assert \"Added video to my_cool_PLAYLIST: Amazing Cats\" in lines[1]\n",
    "\n",
    "\n",
    "def test_add_to_playlist_already_added(capfd):\n",
    "    player = VideoPlayer()\n",
    "    player.create_playlist(\"my_cool_playlist\")\n",
    "    player.add_to_playlist(\"my_cool_playlist\", \"amazing_cats_video_id\")\n",
    "    player.add_to_playlist(\"my_cool_playlist\", \"amazing_cats_video_id\")\n",
    "    out, err = capfd.readouterr()\n",
    "    lines = out.splitlines()\n",
    "    assert len(lines) == 3\n",
    "    assert \"Successfully created new playlist: my_cool_playlist\" in lines[0]\n",
    "    assert \"Added video to my_cool_playlist: Amazing Cats\" in lines[1]\n",
    "    assert \"Cannot add video to my_cool_playlist: Video already added\" in lines[2]\n",
    "\n",
    "\n",
    "def test_add_to_playlist_nonexistent_video(capfd):\n",
    "    player = VideoPlayer()\n",
    "    player.create_playlist(\"my_cool_playlist\")\n",
    "    player.add_to_playlist(\"my_cool_playlist\", \"amazing_cats_video_id\")\n",
    "    player.add_to_playlist(\"my_cool_playlist\", \"some_other_video_id\")\n",
    "    out, err = capfd.readouterr()\n",
    "    lines = out.splitlines()\n",
    "    assert len(lines) == 3\n",
    "    assert \"Successfully created new playlist: my_cool_playlist\" in lines[0]\n",
    "    assert \"Added video to my_cool_playlist: Amazing Cats\" in lines[1]\n",
    "    assert \"Cannot add video to my_cool_playlist: Video does not exist\" in lines[2]\n",
    "\n",
    "\n",
    "def test_add_to_playlist_nonexistent_playlist(capfd):\n",
    "    player = VideoPlayer()\n",
    "    player.add_to_playlist(\"another_playlist\", \"amazing_cats_video_id\")\n",
    "    out, err = capfd.readouterr()\n",
    "    lines = out.splitlines()\n",
    "    assert len(lines) == 1\n",
    "    assert \"Cannot add video to another_playlist: Playlist does not exist\" in lines[0]\n",
    "\n",
    "\n",
    "def test_add_to_playlist_nonexistent_playlist_nonexistent_video(capfd):\n",
    "    player = VideoPlayer()\n",
    "    player.add_to_playlist(\"another_playlist\", \"does_not_exist_video_id\")\n",
    "    out, err = capfd.readouterr()\n",
    "    lines = out.splitlines()\n",
    "    assert len(lines) == 1\n",
    "    assert \"Cannot add video to another_playlist: Playlist does not exist\" in lines[0]\n",
    "\n",
    "\n",
    "def test_show_all_playlists_no_playlists_exist(capfd):\n",
    "    player = VideoPlayer()\n",
    "    player.show_all_playlists()\n",
    "    out, err = capfd.readouterr()\n",
    "    lines = out.splitlines()\n",
    "    assert len(lines) == 1\n",
    "    assert \"No playlists exist yet\" in lines[0]\n",
    "\n",
    "\n",
    "def test_show_all_playlists(capfd):\n",
    "    player = VideoPlayer()\n",
    "    player.create_playlist(\"my_cool_playLIST\")\n",
    "    player.create_playlist(\"anotheR_playlist\")\n",
    "    player.show_all_playlists()\n",
    "    out, err = capfd.readouterr()\n",
    "    lines = out.splitlines()\n",
    "    assert len(lines) == 5\n",
    "    assert \"Showing all playlists:\" in lines[2]\n",
    "    assert \"anotheR_playlist\" in lines[3]\n",
    "    assert \"my_cool_playLIST\" in lines[4]\n",
    "\n",
    "\n",
    "def test_show_playlist(capfd):\n",
    "    player = VideoPlayer()\n",
    "    player.create_playlist(\"my_cool_playlist\")\n",
    "    player.show_playlist(\"my_cool_playlist\")\n",
    "    player.add_to_playlist(\"my_cool_playlist\", \"amazing_cats_video_id\")\n",
    "    player.show_playlist(\"my_COOL_playlist\")\n",
    "    out, err = capfd.readouterr()\n",
    "    lines = out.splitlines()\n",
    "    assert len(lines) == 6\n",
    "    assert \"Successfully created new playlist: my_cool_playlist\" in lines[0]\n",
    "    assert \"Showing playlist: my_cool_playlist\" in lines[1]\n",
    "    assert \"No videos here yet\" in lines[2]\n",
    "    assert \"Added video to my_cool_playlist: Amazing Cats\" in lines[3]\n",
    "    assert \"Showing playlist: my_COOL_playlist\" in lines[4]\n",
    "    assert \"Amazing Cats (amazing_cats_video_id) [#cat #animal]\" in lines[5]\n",
    "\n",
    "\n",
    "def test_remove_from_playlist_then_re_add(capfd):\n",
    "    player = VideoPlayer()\n",
    "    player.create_playlist(\"MY_playlist\")\n",
    "    player.add_to_playlist(\"my_playlist\", \"amazing_cats_video_id\")\n",
    "    player.add_to_playlist(\"my_playlist\", \"life_at_google_video_id\")\n",
    "    player.remove_from_playlist(\"my_playlist\", \"amazing_cats_video_id\")\n",
    "    player.add_to_playlist(\"my_playlist\", \"amazing_cats_video_id\")\n",
    "    player.show_playlist(\"my_playLIST\")\n",
    "    out, err = capfd.readouterr()\n",
    "    lines = out.splitlines()\n",
    "    assert len(lines) == 8\n",
    "    assert \"Showing playlist: my_playLIST\" in lines[5]\n",
    "    assert \"Life at Google (life_at_google_video_id) [#google #career]\" in lines[6]\n",
    "    assert \"Amazing Cats (amazing_cats_video_id) [#cat #animal]\" in lines[7]\n",
    "\n",
    "\n",
    "def test_show_playlist_nonexistent_playlist(capfd):\n",
    "    player = VideoPlayer()\n",
    "    player.show_playlist(\"another_playlist\")\n",
    "    out, err = capfd.readouterr()\n",
    "    lines = out.splitlines()\n",
    "    assert len(lines) == 1\n",
    "    assert \"Cannot show playlist another_playlist: Playlist does not exist\" in lines[0]\n",
    "\n",
    "\n",
    "def test_remove_from_playlist(capfd):\n",
    "    player = VideoPlayer()\n",
    "    player.create_playlist(\"my_cool_playlist\")\n",
    "    player.add_to_playlist(\"my_cool_playlist\", \"amazing_cats_video_id\")\n",
    "    player.remove_from_playlist(\"my_COOL_playlist\", \"amazing_cats_video_id\")\n",
    "    player.remove_from_playlist(\"my_cool_playlist\", \"amazing_cats_video_id\")\n",
    "    out, err = capfd.readouterr()\n",
    "    lines = out.splitlines()\n",
    "    assert len(lines) == 4\n",
    "    assert \"Successfully created new playlist: my_cool_playlist\" in lines[0]\n",
    "    assert \"Added video to my_cool_playlist: Amazing Cats\" in lines[1]\n",
    "    assert \"Removed video from my_COOL_playlist: Amazing Cats\" in lines[2]\n",
    "    assert \"Cannot remove video from my_cool_playlist: Video is not in playlist\" in lines[3]\n",
    "\n",
    "\n",
    "def test_remove_from_playlist_video_is_not_in_playlist(capfd):\n",
    "    player = VideoPlayer()\n",
    "    player.create_playlist(\"my_cool_playlist\")\n",
    "    player.remove_from_playlist(\"my_cool_playlist\", \"amazing_cats_video_id\")\n",
    "    out, err = capfd.readouterr()\n",
    "    lines = out.splitlines()\n",
    "    assert len(lines) == 2\n",
    "    assert \"Successfully created new playlist: my_cool_playlist\" in lines[0]\n",
    "    assert \"Cannot remove video from my_cool_playlist: Video is not in playlist\" in lines[1]\n",
    "\n",
    "\n",
    "def test_remove_from_playlist_nonexistent_video(capfd):\n",
    "    player = VideoPlayer()\n",
    "    player.create_playlist(\"my_cool_playlist\")\n",
    "    player.add_to_playlist(\"my_cool_playlist\", \"amazing_cats_video_id\")\n",
    "    player.remove_from_playlist(\"my_cool_playlist\", \"some_other_video_id\")\n",
    "    out, err = capfd.readouterr()\n",
    "    lines = out.splitlines()\n",
    "    assert len(lines) == 3\n",
    "    assert \"Successfully created new playlist: my_cool_playlist\" in lines[0]\n",
    "    assert \"Added video to my_cool_playlist: Amazing Cats\" in lines[1]\n",
    "    assert \"Cannot remove video from my_cool_playlist: Video does not exist\" in lines[2]\n",
    "\n",
    "\n",
    "def test_remove_from_playlist_nonexistent_playlist(capfd):\n",
    "    player = VideoPlayer()\n",
    "    player.remove_from_playlist(\"my_cool_playlist\", \"amazing_cats_video_id\")\n",
    "    out, err = capfd.readouterr()\n",
    "    lines = out.splitlines()\n",
    "    assert len(lines) == 1\n",
    "    assert \"Cannot remove video from my_cool_playlist: Playlist does not exist\" in lines[0]\n",
    "\n",
    "\n",
    "def test_clear_playlist(capfd):\n",
    "    player = VideoPlayer()\n",
    "    player.create_playlist(\"my_cool_playlist\")\n",
    "    player.add_to_playlist(\"my_cool_playlist\", \"amazing_cats_video_id\")\n",
    "    player.show_playlist(\"my_cool_playlist\")\n",
    "    player.clear_playlist(\"my_COOL_playlist\")\n",
    "    player.show_playlist(\"my_cool_playlist\")\n",
    "    out, err = capfd.readouterr()\n",
    "    lines = out.splitlines()\n",
    "    assert len(lines) == 7\n",
    "    assert \"Successfully created new playlist: my_cool_playlist\" in lines[0]\n",
    "    assert \"Added video to my_cool_playlist: Amazing Cats\" in lines[1]\n",
    "    assert \"Showing playlist: my_cool_playlist\" in lines[2]\n",
    "    assert \"Amazing Cats (amazing_cats_video_id) [#cat #animal]\" in lines[3]\n",
    "    assert \"Successfully removed all videos from my_COOL_playlist\" in lines[4]\n",
    "    assert \"Showing playlist: my_cool_playlist\" in lines[5]\n",
    "    assert \"No videos here yet\" in lines[6]\n",
    "\n",
    "\n",
    "def test_clear_playlist_nonexistent(capfd):\n",
    "    player = VideoPlayer()\n",
    "    player.clear_playlist(\"my_cool_playlist\")\n",
    "    out, err = capfd.readouterr()\n",
    "    lines = out.splitlines()\n",
    "    assert len(lines) == 1\n",
    "    assert \"Cannot clear playlist my_cool_playlist: Playlist does not exist\" in lines[0]\n",
    "\n",
    "\n",
    "def test_delete_playlist(capfd):\n",
    "    player = VideoPlayer()\n",
    "    player.create_playlist(\"my_cool_playlist\")\n",
    "    player.delete_playlist(\"my_cool_playlist\")\n",
    "    out, err = capfd.readouterr()\n",
    "    lines = out.splitlines()\n",
    "    assert len(lines) == 2\n",
    "    assert \"Successfully created new playlist: my_cool_playlist\" in lines[0]\n",
    "    assert \"Deleted playlist: my_cool_playlist\" in lines[1]\n",
    "\n",
    "\n",
    "def test_delete_playlist_nonexistent(capfd):\n",
    "    player = VideoPlayer()\n",
    "    player.delete_playlist(\"my_cool_playlist\")\n",
    "    out, err = capfd.readouterr()\n",
    "    lines = out.splitlines()\n",
    "    assert len(lines) == 1\n",
    "    assert \"Cannot delete playlist my_cool_playlist: Playlist does not exist\" in lines[0]"
   ]
  }
 ],
 "metadata": {
  "kernelspec": {
   "display_name": "Python 3 (system-wide)",
   "language": "python",
   "metadata": {
    "cocalc": {
     "description": "Python 3 programming language",
     "priority": 100,
     "url": "https://www.python.org/"
    }
   },
   "name": "python3",
   "resource_dir": "/ext/jupyter/kernels/python3"
  },
  "language_info": {
   "codemirror_mode": {
    "name": "ipython",
    "version": 3
   },
   "file_extension": ".py",
   "mimetype": "text/x-python",
   "name": "python",
   "nbconvert_exporter": "python",
   "pygments_lexer": "ipython3",
   "version": "3.8.5"
  }
 },
 "nbformat": 4,
 "nbformat_minor": 4
}